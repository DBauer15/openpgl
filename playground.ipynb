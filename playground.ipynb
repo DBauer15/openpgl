{
 "cells": [
  {
   "cell_type": "code",
   "execution_count": 1,
   "metadata": {},
   "outputs": [],
   "source": [
    "import build.python.openpglpy as pgl\n",
    "import random"
   ]
  },
  {
   "cell_type": "code",
   "execution_count": 3,
   "metadata": {},
   "outputs": [],
   "source": [
    "d = pgl.Device(pgl.PGL_DEVICE_TYPE.PGL_DEVICE_TYPE_CPU_4)\n",
    "\n",
    "fieldArgs = pgl.FieldArguments()\n",
    "pgl.pglFieldArgumentsSetDefaults(fieldArgs, pgl.PGL_SPATIAL_STRUCTURE_TYPE.PGL_SPATIAL_STRUCTURE_KDTREE, pgl.PGL_DIRECTIONAL_DISTRIBUTION_TYPE.PGL_DIRECTIONAL_DISTRIBUTION_VMM)\n",
    "f = pgl.Field(d, fieldArgs)\n",
    "s = pgl.SampleStorage()"
   ]
  },
  {
   "cell_type": "code",
   "execution_count": 4,
   "metadata": {},
   "outputs": [],
   "source": [
    "def make_sample():\n",
    "    sample = pgl.SampleData()\n",
    "    sample.position = pgl.Vector3(random.random(), random.random(), random.random())\n",
    "    sample.direction = pgl.Vector3(0.0, 1.0, 0.0)\n",
    "    sample.pdf = 1.0\n",
    "    sample.weight = 1.0\n",
    "    sample.distance = random.random()\n",
    "    return sample"
   ]
  },
  {
   "cell_type": "code",
   "execution_count": 5,
   "metadata": {},
   "outputs": [],
   "source": [
    "for i in range(100):\n",
    "    sample = make_sample()\n",
    "    s.AddSample(sample)"
   ]
  },
  {
   "cell_type": "code",
   "execution_count": 29,
   "metadata": {},
   "outputs": [],
   "source": [
    "f.Update(s)"
   ]
  },
  {
   "cell_type": "code",
   "execution_count": 30,
   "metadata": {},
   "outputs": [],
   "source": [
    "ssd = pgl.SurfaceSamplingDistribution(f)"
   ]
  },
  {
   "cell_type": "code",
   "execution_count": 32,
   "metadata": {},
   "outputs": [
    {
     "name": "stdout",
     "output_type": "stream",
     "text": [
      "nan nan nan\n"
     ]
    }
   ],
   "source": [
    "sample = ssd.Sample(pgl.Vector2(random.random(), random.random()))\n",
    "print(sample.x, sample.y, sample.z)"
   ]
  },
  {
   "cell_type": "code",
   "execution_count": null,
   "metadata": {},
   "outputs": [],
   "source": []
  }
 ],
 "metadata": {
  "kernelspec": {
   "display_name": "Python 3",
   "language": "python",
   "name": "python3"
  },
  "language_info": {
   "codemirror_mode": {
    "name": "ipython",
    "version": 3
   },
   "file_extension": ".py",
   "mimetype": "text/x-python",
   "name": "python",
   "nbconvert_exporter": "python",
   "pygments_lexer": "ipython3",
   "version": "3.8.10"
  },
  "orig_nbformat": 4
 },
 "nbformat": 4,
 "nbformat_minor": 2
}
